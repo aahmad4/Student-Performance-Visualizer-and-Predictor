{
 "cells": [
  {
   "cell_type": "code",
   "execution_count": 63,
   "metadata": {},
   "outputs": [],
   "source": [
    "# Importing all libraries\n",
    "import tensorflow\n",
    "import keras\n",
    "import pandas as pd\n",
    "import numpy as np\n",
    "import sklearn\n",
    "from sklearn.utils import shuffle\n",
    "from sklearn import linear_model\n",
    "import matplotlib.pyplot as pyplot\n",
    "import pickle\n",
    "from matplotlib import style"
   ]
  },
  {
   "cell_type": "code",
   "execution_count": 35,
   "metadata": {},
   "outputs": [
    {
     "name": "stdout",
     "output_type": "stream",
     "text": [
      "  school sex  age address famsize Pstatus  Medu  Fedu  ... goout Dalc Walc health  absences  G1  G2  G3\n",
      "0     GP   F   18       U     GT3       A     4     4  ...     4    1    1      3         6   5   6   6\n",
      "1     GP   F   17       U     GT3       T     1     1  ...     3    1    1      3         4   5   5   6\n",
      "2     GP   F   15       U     LE3       T     1     1  ...     2    2    3      3        10   7   8  10\n",
      "3     GP   F   15       U     GT3       T     4     2  ...     2    1    1      5         2  15  14  15\n",
      "4     GP   F   16       U     GT3       T     3     3  ...     2    1    2      5         4   6  10  10\n",
      "\n",
      "[5 rows x 33 columns]\n"
     ]
    }
   ],
   "source": [
    "# Creating a dataset with pandas\n",
    "# Data is separated with a semicolon\n",
    "# Print all the data\n",
    "data = pd.read_csv(\"student-mat.csv\", sep=\,\")\n",
    "print(data.head())"
   ]
  },
  {
   "cell_type": "code",
   "execution_count": 36,
   "metadata": {},
   "outputs": [
    {
     "name": "stdout",
     "output_type": "stream",
     "text": [
      "   G1  G2  G3  failures  absences  studytime  traveltime\n",
      "0   5   6   6         0         6          2           2\n",
      "1   5   5   6         0         4          2           1\n",
      "2   7   8  10         3        10          2           1\n",
      "3  15  14  15         0         2          3           1\n",
      "4   6  10  10         0         4          2           1\n"
     ]
    }
   ],
   "source": [
    "# Filtering dataset with only the attributes I want to keep\n",
    "# Print filtered data\n",
    "data = data[[\"G1\", \"G2\", \"G3\", \"failures\", \"absences\", \"studytime\", \"traveltime\"]]\n",
    "print(data.head())"
   ]
  },
  {
   "cell_type": "code",
   "execution_count": 37,
   "metadata": {},
   "outputs": [],
   "source": [
    "# Creating a label (The final output)\n",
    "predict = \"G3\""
   ]
  },
  {
   "cell_type": "code",
   "execution_count": 38,
   "metadata": {},
   "outputs": [],
   "source": [
    "# Return a new data frame with all our attributes that doesn't have G3 in it \n",
    "x = np.array(data.drop([predict], 1))"
   ]
  },
  {
   "cell_type": "code",
   "execution_count": 39,
   "metadata": {},
   "outputs": [],
   "source": [
    "# All of our labels\n",
    "y = np.array(data[predict])"
   ]
  },
  {
   "cell_type": "code",
   "execution_count": 52,
   "metadata": {},
   "outputs": [],
   "source": [
    "# Taking all attributes and labels, splitting them into 4 different arrays\n",
    "# x_train is a section of the array 'x'\n",
    "# y_train is a section of the array 'y'\n",
    "# The two test datas (x_test, y_test) is used to test the accuracy of the model\n",
    "x_train, x_test, y_train, y_test = sklearn.model_selection.train_test_split(x, y, test_size=0.1) \n",
    "# Splitting up 10% of data into test samples so when we test, we can test off of new data that the machine hasn't seen before"
   ]
  },
  {
   "cell_type": "code",
   "execution_count": 53,
   "metadata": {},
   "outputs": [
    {
     "name": "stdout",
     "output_type": "stream",
     "text": [
      "0.9189586318407417\n"
     ]
    }
   ],
   "source": [
    "# Making best fit line (linear regression)\n",
    "linear = linear_model.LinearRegression()\n",
    "\n",
    "# Fit this data to find a best fit line\n",
    "linear.fit(x_train, y_train)\n",
    "\n",
    "# Store accuracy of model\n",
    "acc = linear.score(x_test, y_test)\n",
    "print(acc)"
   ]
  },
  {
   "cell_type": "code",
   "execution_count": 64,
   "metadata": {},
   "outputs": [],
   "source": [
    "# Save a pickle file of our model in our directory \n",
    "with open(\"student_model.pickle\", \"wb\") as f:\n",
    "    pickle.dump(linear, f)"
   ]
  },
  {
   "cell_type": "code",
   "execution_count": 65,
   "metadata": {},
   "outputs": [],
   "source": [
    "# Load our model\n",
    "pickle_in = open(\"student_model.pickle\", \"rb\")\n",
    "linear = pickle.load(pickle_in)"
   ]
  },
  {
   "cell_type": "code",
   "execution_count": 55,
   "metadata": {},
   "outputs": [
    {
     "name": "stdout",
     "output_type": "stream",
     "text": [
      "Coefficients: \n",
      " [ 0.15567073  0.97354362 -0.44303036  0.03901742 -0.20518233  0.09053259]\n",
      "Y-Intercept: \n",
      " -1.538578552241395\n"
     ]
    }
   ],
   "source": [
    "# Print all coefficients of our attributes\n",
    "print(\"Coefficients: \" + \"\\n\", linear.coef_)\n",
    "# Print our y-intercept\n",
    "print(\"Y-Intercept: \" + \"\\n\", linear.intercept_)"
   ]
  },
  {
   "cell_type": "code",
   "execution_count": 66,
   "metadata": {},
   "outputs": [
    {
     "name": "stdout",
     "output_type": "stream",
     "text": [
      "9.589802489551007 [10 10  0  4  2  1] 10\n",
      "5.27772849850917 [7 6 0 0 1 1] 0\n",
      "14.090634390059966 [13 14  0  0  1  2] 14\n",
      "-2.203965748307545 [5 0 3 0 1 1] 0\n",
      "12.889315444870768 [13 13  0  7  3  1] 14\n",
      "7.473205752104697 [ 9  8  1 15  2  1] 8\n",
      "15.654571612339533 [16 15  0 16  3  1] 15\n",
      "10.981245624354672 [13 11  0  8  3  1] 11\n",
      "12.588069237567966 [11 13  0  2  2  1] 13\n",
      "14.262330593189374 [15 14  0  4  2  1] 14\n",
      "16.357395821339942 [16 16  0 12  4  2] 16\n",
      "12.5747423062173 [14 12  0 10  2  3] 11\n",
      "5.840907459177326 [7 7 0 0 3 1] 8\n",
      "9.885517405787333 [10 10  0  4  1  2] 10\n",
      "6.716647236508255 [6 8 1 0 1 2] 8\n",
      "16.36468961423907 [17 16  0  0  2  1] 16\n",
      "11.195581118747699 [12 11  1 16  1  2] 12\n",
      "7.120411941381072 [5 9 2 6 2 2] 7\n",
      "19.087799582751828 [18 18  0  6  1  3] 18\n",
      "13.979113430198385 [15 14  0  2  3  1] 15\n",
      "11.133388625932263 [13 11  0  2  2  3] 11\n",
      "12.143946094741104 [12 12  0  4  1  2] 13\n",
      "13.922864853257046 [11 14  0  6  1  1] 14\n",
      "-0.1857763299523303 [9 0 0 0 2 4] 0\n",
      "4.912085790217649 [7 7 3 5 2 1] 7\n",
      "14.924133818300527 [14 15  0  0  2  1] 15\n",
      "13.261620129428653 [15 14  2  4  3  2] 15\n",
      "12.449701283255441 [10 13  0  6  4  4] 13\n",
      "12.756237716544135 [12 13  0  0  2  2] 13\n",
      "-0.35121496912175143 [11  0  0  0  3  1] 0\n",
      "10.251605714662158 [ 9 11  0  0  2  1] 12\n",
      "7.967352341112383 [10  8  0 10  2  2] 8\n",
      "5.650798634214082 [5 8 3 0 2 4] 7\n",
      "18.508468561351265 [19 18  0  0  3  2] 19\n",
      "7.296536759191573 [8 9 3 0 1 4] 10\n",
      "5.68109426120874 [7 7 1 2 2 1] 7\n",
      "11.137019255297322 [ 9 12  0  3  3  1] 11\n",
      "3.443701742769865 [ 6  5  3 16  1  1] 5\n",
      "9.084068932343929 [11  9  0 12  2  1] 9\n",
      "11.692161510600702 [12 12  0  0  2  1] 11\n"
     ]
    }
   ],
   "source": [
    "# Take an array and make predictions based on data not already given\n",
    "predictions = linear.predict(x_test)\n",
    "\n",
    "# Print each prediction next to the actual attributes and final output\n",
    "for x in range(len(predictions)):\n",
    "    print(predictions[x], x_test[x], y_test[x])"
   ]
  },
  {
   "cell_type": "code",
   "execution_count": 69,
   "metadata": {},
   "outputs": [
    {
     "data": {
      "image/png": "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\n",
      "text/plain": [
       "<Figure size 432x288 with 1 Axes>"
      ]
     },
     "metadata": {},
     "output_type": "display_data"
    }
   ],
   "source": [
    "# P is one of our attributes\n",
    "# G3 is our label and y coordinate\n",
    "# G1 represents first semester grade, final grade is the final grade (obviously)\n",
    "# You can replace 'p' with any attribute to see the correlation between that and the final grade\n",
    "p = \"G1\"\n",
    "style.use(\"ggplot\")\n",
    "pyplot.scatter(data[p], data[\"G3\"])\n",
    "pyplot.xlabel(p)\n",
    "pyplot.ylabel(\"Final Grade\")\n",
    "pyplot.show()"
   ]
  },
  {
   "cell_type": "code",
   "execution_count": 74,
   "metadata": {},
   "outputs": [
    {
     "data": {
      "image/png": "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\n",
      "text/plain": [
       "<Figure size 432x288 with 1 Axes>"
      ]
     },
     "metadata": {},
     "output_type": "display_data"
    }
   ],
   "source": [
    "# Here's another example \n",
    "# Correlating number of failures to a students final grade\n",
    "# As seen, students with less failures clearly have the higher final grades\n",
    "p = \"failures\"\n",
    "style.use(\"ggplot\")\n",
    "pyplot.scatter(data[p], data[\"G3\"])\n",
    "pyplot.xlabel(p)\n",
    "pyplot.ylabel(\"Final Grade\")\n",
    "pyplot.show()"
   ]
  }
 ],
 "metadata": {
  "kernelspec": {
   "display_name": "Python 3",
   "language": "python",
   "name": "python3"
  },
  "language_info": {
   "codemirror_mode": {
    "name": "ipython",
    "version": 3
   },
   "file_extension": ".py",
   "mimetype": "text/x-python",
   "name": "python",
   "nbconvert_exporter": "python",
   "pygments_lexer": "ipython3",
   "version": "3.7.4"
  }
 },
 "nbformat": 4,
 "nbformat_minor": 2
}
